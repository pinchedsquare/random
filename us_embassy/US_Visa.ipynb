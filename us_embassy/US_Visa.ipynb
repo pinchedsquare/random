{
 "cells": [
  {
   "cell_type": "code",
   "execution_count": 994,
   "metadata": {
    "id": "7lzDfy1C8reF"
   },
   "outputs": [],
   "source": [
    "# !pip install -q pandas\n",
    "# !pip install -q requests google-auth google-api-python-client google-auth-httplib2 google-auth-oauthlib"
   ]
  },
  {
   "cell_type": "code",
   "execution_count": 995,
   "metadata": {
    "id": "SvSEYc2qKNhQ"
   },
   "outputs": [],
   "source": [
    "import copy\n",
    "import json\n",
    "import pandas as pd\n",
    "import requests\n",
    "import re"
   ]
  },
  {
   "cell_type": "code",
   "execution_count": 996,
   "metadata": {
    "id": "Z7tfS93itqR1"
   },
   "outputs": [],
   "source": [
    "default_headers = {\n",
    "    # 'Accept': '*/*;q=0.5, text/javascript, application/javascript, application/ecmascript, application/x-ecmascript' ,\n",
    "    'Accept': 'text/html,application/xhtml+xml,application/xml;q=0.9,image/avif,image/webp,image/apng,*/*;q=0.8,application/signed-exchange;v=b3;q=0.7',\n",
    "    'Accept-Language': 'en-US,en;q=0.9,fa;q=0.8' ,\n",
    "    'Connection': 'keep-alive' ,\n",
    "    # 'Content-Type': 'application/x-www-form-urlencoded; charset=UTF-8' ,\n",
    "    'Content-Type': 'text/html,application/xhtml+xml,application/xml;q=0.9,image/avif,image/webp,image/apng,*/*;q=0.8,application/signed-exchange;v=b3;q=0.7' ,\n",
    "    'Origin': 'https://ais.usvisa-info.com' ,\n",
    "    'Referer': 'https://ais.usvisa-info.com/en-am/niv/users/sign_in' ,\n",
    "    'Sec-Fetch-Dest': 'empty' ,\n",
    "    'Sec-Fetch-Mode': 'cors' ,\n",
    "    'Sec-Fetch-Site': 'same-origin' ,\n",
    "    'User-Agent': 'Mozilla/5.0 (Macintosh; Intel Mac OS X 10_15_7) AppleWebKit/537.36 (KHTML, like Gecko) Chrome/129.0.0.0 Safari/537.36' ,\n",
    "    # 'X-CSRF-Token': '2eCWn/ixpL3flKpJVAGH+Er3KuGVDCSyCNmvqdInBEvXkiigk0txMOnufLYfBbI6RRU9K3xTUOTVgg42oRL5tA==' ,\n",
    "    'X-Requested-With': 'XMLHttpRequest' ,\n",
    "    'sec-ch-ua': '\"Google Chrome\";v=\"129\", \"Not=A?Brand\";v=\"8\", \"Chromium\";v=\"129\"' ,\n",
    "    'sec-ch-ua-mobile': '?0' ,\n",
    "    'sec-ch-ua-platform': '\"macOS\"' ,\n",
    "  }"
   ]
  },
  {
   "cell_type": "code",
   "execution_count": 997,
   "metadata": {
    "colab": {
     "base_uri": "https://localhost:8080/"
    },
    "id": "jxD4ynZjtmH9",
    "outputId": "ef354bf0-4702-4916-82b2-c0fc4a64130a"
   },
   "outputs": [
    {
     "data": {
      "text/plain": [
       "200"
      ]
     },
     "execution_count": 997,
     "metadata": {},
     "output_type": "execute_result"
    }
   ],
   "source": [
    "res = requests.get(\n",
    "    'https://ais.usvisa-info.com/en-ke/niv/users/sign_in',\n",
    "    headers = default_headers)\n",
    "res.status_code"
   ]
  },
  {
   "cell_type": "code",
   "execution_count": 998,
   "metadata": {
    "colab": {
     "base_uri": "https://localhost:8080/"
    },
    "id": "PXA16IphvdTW",
    "outputId": "cf536218-dd10-4865-d93c-ad2b848f64e9"
   },
   "outputs": [
    {
     "name": "stdout",
     "output_type": "stream",
     "text": [
      "X-CSRF-Token retrieved.\n"
     ]
    }
   ],
   "source": [
    "cookies = res.cookies\n",
    "csrf_token = None\n",
    "csrf_match = re.search(r'<meta name=\"csrf-token\" content=\"(.*?)\"',\n",
    "                      str(res.content))\n",
    "if csrf_match:\n",
    "  csrf_token = csrf_match.group(1)\n",
    "  print(f'X-CSRF-Token retrieved.')\n",
    "else:\n",
    "  print(\"No X-CSRF-Token found.\")"
   ]
  },
  {
   "cell_type": "code",
   "execution_count": 999,
   "metadata": {
    "colab": {
     "base_uri": "https://localhost:8080/"
    },
    "id": "6AOG3qhPymTW",
    "outputId": "dc07b514-eced-411a-d468-5a9dfa1af282"
   },
   "outputs": [
    {
     "name": "stdout",
     "output_type": "stream",
     "text": [
      "status code: 200\n",
      "$('#authFactor.reveal').foundation('close')\n",
      "$.blockUI( {message: \"\", css: { border: 'none', padding: '15px', backgroundColor: '#000', '-webkit-border-radius': '10px', '-moz-border-radius': '10px', opacity: .5, color: '#fff'}})\n",
      "window.location.pathname=\"/en-ke/niv/account\"\n",
      "\n"
     ]
    }
   ],
   "source": [
    "headers = copy.deepcopy(default_headers)\n",
    "headers['X-CSRF-Token'] = csrf_token\n",
    "headers['Content-Type'] = 'application/x-www-form-urlencoded; charset=UTF-8'\n",
    "res = requests.post('https://ais.usvisa-info.com/en-ke/niv/users/sign_in',\n",
    "    headers=headers,\n",
    "    cookies=cookies,\n",
    "    data={\n",
    "       'user[email]': 'delaramali.delaramali@gmail.com',\n",
    "       'user[password]': 'Kenya@2024',\n",
    "       'policy_confirmed': '1',\n",
    "       'commit': 'Sign In',\n",
    "    })\n",
    "print(f'status code: {res.status_code}')\n",
    "print(f'{res.content.decode(\"utf-8\")}')"
   ]
  },
  {
   "cell_type": "code",
   "execution_count": 1000,
   "metadata": {
    "colab": {
     "base_uri": "https://localhost:8080/"
    },
    "id": "-zeYBJKzzIG-",
    "outputId": "4fa4759e-1cde-47b9-d26f-5b34ae080b88"
   },
   "outputs": [
    {
     "data": {
      "text/plain": [
       "302"
      ]
     },
     "execution_count": 1000,
     "metadata": {},
     "output_type": "execute_result"
    }
   ],
   "source": [
    "res = requests.get(\n",
    "    'https://ais.usvisa-info.com/en-ke/niv/account',\n",
    "    headers = default_headers,\n",
    "    cookies = res.cookies,\n",
    "    allow_redirects=False)\n",
    "res.status_code"
   ]
  },
  {
   "cell_type": "code",
   "execution_count": 1001,
   "metadata": {
    "colab": {
     "base_uri": "https://localhost:8080/"
    },
    "id": "kGlWN85d1M_Y",
    "outputId": "43f9a787-d301-43be-854e-a001aa53d129"
   },
   "outputs": [
    {
     "data": {
      "text/plain": [
       "200"
      ]
     },
     "execution_count": 1001,
     "metadata": {},
     "output_type": "execute_result"
    }
   ],
   "source": [
    "res = requests.get(\n",
    "    'https://ais.usvisa-info.com/en-ke/niv/groups/43464236',\n",
    "    headers = default_headers,\n",
    "    cookies = res.cookies,\n",
    "    allow_redirects=False)\n",
    "res.status_code"
   ]
  },
  {
   "cell_type": "code",
   "execution_count": 1002,
   "metadata": {
    "colab": {
     "base_uri": "https://localhost:8080/"
    },
    "id": "k3JS9HSS3HIG",
    "outputId": "812da7ec-3612-49be-bf06-20ff150b5e2a"
   },
   "outputs": [
    {
     "name": "stdout",
     "output_type": "stream",
     "text": [
      "response code: 200\n",
      "Successfully loaded the appointment page.\n"
     ]
    }
   ],
   "source": [
    "res = requests.get(\n",
    "    'https://ais.usvisa-info.com/en-ke/niv/schedule/61475787/appointment?applicants%5B%5D=72890185&applicants%5B%5D=72890374&confirmed_limit_message=1&commit=Continue',\n",
    "    headers = default_headers,\n",
    "    cookies = res.cookies,\n",
    "    allow_redirects=False)\n",
    "print(f'response code: {res.status_code}')\n",
    "if 'Reschedule' in str(res.content):\n",
    "  print('Successfully loaded the appointment page.')\n",
    "else:\n",
    "  print('Failed to load the appointment page')"
   ]
  },
  {
   "cell_type": "code",
   "execution_count": 1003,
   "metadata": {
    "colab": {
     "base_uri": "https://localhost:8080/"
    },
    "id": "pbTqPnoC3kgc",
    "outputId": "e73132be-631f-4d9d-d2ab-9545a8aceef7"
   },
   "outputs": [
    {
     "data": {
      "text/plain": [
       "200"
      ]
     },
     "execution_count": 1003,
     "metadata": {},
     "output_type": "execute_result"
    }
   ],
   "source": [
    "headers = copy.deepcopy(default_headers)\n",
    "headers['Accept'] = 'application/json, text/javascript, */*; q=0.01'\n",
    "res = requests.get(\n",
    "    'https://ais.usvisa-info.com/en-ke/niv/schedule/61475787/appointment/days/104.json?appointments[expedite]=false',\n",
    "    headers = default_headers,\n",
    "    cookies = res.cookies,\n",
    "    allow_redirects=False)\n",
    "res.status_code"
   ]
  },
  {
   "cell_type": "code",
   "execution_count": 1004,
   "metadata": {
    "colab": {
     "base_uri": "https://localhost:8080/"
    },
    "id": "GtZPx7Go4tZE",
    "outputId": "57cd24c5-2668-4cb4-c7ba-454c0a634fd3"
   },
   "outputs": [
    {
     "name": "stdout",
     "output_type": "stream",
     "text": [
      "No early appointments available.\n"
     ]
    }
   ],
   "source": [
    "date_to_comapre = '2024-12-01'\n",
    "\n",
    "dates_df = pd.json_normalize(json.loads(res.content))\n",
    "first_avail_date = dates_df[dates_df['date'] < date_to_comapre]\n",
    "if first_avail_date.empty:\n",
    "  print('No early appointments available.')\n",
    "else:\n",
    "  first_avail_date = first_avail_date.sort_values(by='date', ascending=True).head(1).values[0][0]\n",
    "  print(f'First available appointment: {first_avail_date}')"
   ]
  },
  {
   "cell_type": "code",
   "execution_count": 1005,
   "metadata": {
    "id": "_f4oQuXW8y9K"
   },
   "outputs": [],
   "source": [
    "import pytz\n",
    "from datetime import timedelta, datetime\n",
    "\n",
    "\n",
    "def create_event(service):\n",
    "    # Create an event on the primary calendar\n",
    "    # Get the Hawaiian timezone\n",
    "    hawaiian_tz = pytz.timezone('Pacific/Honolulu')\n",
    "\n",
    "    # Get the current time in UTC\n",
    "    utc_now = datetime.now(pytz.utc)\n",
    "\n",
    "    # Convert the UTC time to Hawaiian time\n",
    "    start_time = utc_now.astimezone(hawaiian_tz) + timedelta(minutes=5)\n",
    "\n",
    "    event = {\n",
    "      'summary': 'US Visa Appointment',\n",
    "      'description': f'First available appointment: {first_avail_date}',\n",
    "      'start': {\n",
    "        'dateTime': start_time.isoformat(),\n",
    "        'timeZone': 'Pacific/Honolulu',\n",
    "      },\n",
    "      'end': {\n",
    "        'dateTime': (start_time + timedelta(hours=1)).isoformat(),\n",
    "        'timeZone': 'Pacific/Honolulu',\n",
    "      },\n",
    "      'creator': {\n",
    "         'email': 'alireza.ali@gmail.com',\n",
    "      },\n",
    "      # 'recurrence': [\n",
    "      #   'RRULE:FREQ=DAILY;COUNT=2'\n",
    "      # ],\n",
    "      'attendees': [\n",
    "        {'email': 'alireza.ali@gmail.com'},\n",
    "        # {'email': 'example2@gmail.com'},\n",
    "      ],\n",
    "      'reminders': {\n",
    "        'useDefault': False,\n",
    "        'overrides': [\n",
    "          {'method': 'email', 'minutes': 1},\n",
    "          {'method': 'popup', 'minutes': 1},\n",
    "        ],\n",
    "      },\n",
    "    }\n",
    "\n",
    "    event = service.events().insert(calendarId='primary', body=event).execute()\n",
    "    print(f'Event created: {event.get(\"htmlLink\")}')"
   ]
  },
  {
   "cell_type": "code",
   "execution_count": 1006,
   "metadata": {
    "id": "h7ExISsL93YZ"
   },
   "outputs": [],
   "source": [
    "from google.oauth2.credentials import Credentials\n",
    "from google_auth_oauthlib.flow import InstalledAppFlow\n",
    "from google.auth.transport.requests import Request\n",
    "import os\n",
    "\n",
    "# /content/drive/MyDrive/Colab Notebooks/client_secret_1020799066832-37ba3r1pimcrf4cf8l0qub4ga13u2e1t.apps.googleusercontent.com.json\n",
    "\n",
    "SCOPES = ['https://www.googleapis.com/auth/calendar.events']\n",
    "\n",
    "def authenticate_google_calendar():\n",
    "    creds = None\n",
    "    redirect_uri = \"https://developers.google.com/oauthplayground\"  # Specify the redirect_uri\n",
    "\n",
    "    if os.path.exists('token.json'):\n",
    "        creds = Credentials.from_authorized_user_file('token.json', SCOPES)\n",
    "    if not creds or not creds.valid:\n",
    "        if creds and creds.expired and creds.refresh_token:\n",
    "            creds.refresh(Request())\n",
    "        else:\n",
    "            flow = InstalledAppFlow.from_client_secrets_file(\n",
    "                'client_secret_1020799066832-37ba3r1pimcrf4cf8l0qub4ga13u2e1t.apps.googleusercontent.com.json',\n",
    "                SCOPES)\n",
    "            flow.redirect_uri = redirect_uri\n",
    "            # Removed redirect_uri from this call as it's already specified above\n",
    "            auth_url, _ = flow.authorization_url(prompt='consent')\n",
    "\n",
    "            print(f'Please go to this URL and authorize the app: {auth_url}')\n",
    "            code = input('Enter the authorization code: ')\n",
    "            flow.fetch_token(code=code)\n",
    "\n",
    "            creds = flow.credentials\n",
    "\n",
    "        # Save the credentials for the next run\n",
    "        with open('token.json', 'w') as token:\n",
    "            token.write(creds.to_json())\n",
    "\n",
    "    return build('calendar', 'v3', credentials=creds)"
   ]
  },
  {
   "cell_type": "code",
   "execution_count": 1007,
   "metadata": {
    "id": "h7ExISsL93YZ"
   },
   "outputs": [],
   "source": [
    "from google.oauth2.credentials import Credentials\n",
    "from google_auth_oauthlib.flow import InstalledAppFlow\n",
    "from google.auth.transport.requests import Request\n",
    "from googleapiclient.discovery import build\n",
    "\n",
    "import os\n",
    "import os.path\n",
    "\n",
    "# /content/drive/MyDrive/Colab Notebooks/client_secret_1020799066832-37ba3r1pimcrf4cf8l0qub4ga13u2e1t.apps.googleusercontent.com.json\n",
    "\n",
    "SCOPES = ['https://www.googleapis.com/auth/calendar.events']\n",
    "\n",
    "def authenticate_google_calendar():\n",
    "    creds = None\n",
    "    redirect_uri = \"https://developers.google.com/oauthplayground\"  # Specify the redirect_uri\n",
    "\n",
    "    if os.path.exists('token.json'):\n",
    "        creds = Credentials.from_authorized_user_file('token.json', SCOPES)\n",
    "    if not creds or not creds.valid:\n",
    "        if creds and creds.expired and creds.refresh_token:\n",
    "            creds.refresh(Request())\n",
    "        else:\n",
    "            flow = InstalledAppFlow.from_client_secrets_file(\n",
    "                'client_secret_1020799066832-37ba3r1pimcrf4cf8l0qub4ga13u2e1t.apps.googleusercontent.com.json',\n",
    "                SCOPES)\n",
    "            flow.redirect_uri = redirect_uri\n",
    "            # Removed redirect_uri from this call as it's already specified above\n",
    "            auth_url, _ = flow.authorization_url(prompt='consent')\n",
    "\n",
    "            print(f'Please go to this URL and authorize the app: {auth_url}')\n",
    "            code = input('Enter the authorization code: ')\n",
    "            flow.fetch_token(code=code)\n",
    "\n",
    "            creds = flow.credentials\n",
    "\n",
    "        # Save the credentials for the next run\n",
    "        with open('token.json', 'w') as token:\n",
    "            token.write(creds.to_json())\n",
    "\n",
    "    return build('calendar', 'v3', credentials=creds)"
   ]
  },
  {
   "cell_type": "code",
   "execution_count": 1008,
   "metadata": {
    "id": "h7ExISsL93YZ"
   },
   "outputs": [],
   "source": [
    "from google.oauth2.credentials import Credentials\n",
    "from google_auth_oauthlib.flow import InstalledAppFlow\n",
    "from google.auth.transport.requests import Request\n",
    "import os\n",
    "\n",
    "# /content/drive/MyDrive/Colab Notebooks/client_secret_1020799066832-37ba3r1pimcrf4cf8l0qub4ga13u2e1t.apps.googleusercontent.com.json\n",
    "\n",
    "SCOPES = ['https://www.googleapis.com/auth/calendar.events']\n",
    "\n",
    "def authenticate_google_calendar():\n",
    "    creds = None\n",
    "    redirect_uri = \"https://developers.google.com/oauthplayground\"  # Specify the redirect_uri\n",
    "\n",
    "    if os.path.exists('token.json'):\n",
    "        creds = Credentials.from_authorized_user_file('token.json', SCOPES)\n",
    "    if not creds or not creds.valid:\n",
    "        if creds and creds.expired and creds.refresh_token:\n",
    "            creds.refresh(Request())\n",
    "        else:\n",
    "            flow = InstalledAppFlow.from_client_secrets_file(\n",
    "                'client_secret_1020799066832-37ba3r1pimcrf4cf8l0qub4ga13u2e1t.apps.googleusercontent.com.json',\n",
    "                SCOPES)\n",
    "            flow.redirect_uri = redirect_uri\n",
    "            # Removed redirect_uri from this call as it's already specified above\n",
    "            auth_url, _ = flow.authorization_url(prompt='consent')\n",
    "\n",
    "            print(f'Please go to this URL and authorize the app: {auth_url}')\n",
    "            code = input('Enter the authorization code: ')\n",
    "            flow.fetch_token(code=code)\n",
    "\n",
    "            creds = flow.credentials\n",
    "\n",
    "        # Save the credentials for the next run\n",
    "        with open('token.json', 'w') as token:\n",
    "            token.write(creds.to_json())\n",
    "\n",
    "    return build('calendar', 'v3', credentials=creds)"
   ]
  },
  {
   "cell_type": "code",
   "execution_count": 1009,
   "metadata": {
    "colab": {
     "base_uri": "https://localhost:8080/",
     "height": 380
    },
    "id": "AptmSjJq84NF",
    "outputId": "d094dfb5-9cf6-42b1-8803-dac0ef50f4b3"
   },
   "outputs": [
    {
     "name": "stdout",
     "output_type": "stream",
     "text": [
      "2024-09-26T21:13:31.396251\n",
      "\n",
      "No early appointments available.\n"
     ]
    },
    {
     "data": {
      "text/html": [
       "<div>\n",
       "<style scoped>\n",
       "    .dataframe tbody tr th:only-of-type {\n",
       "        vertical-align: middle;\n",
       "    }\n",
       "\n",
       "    .dataframe tbody tr th {\n",
       "        vertical-align: top;\n",
       "    }\n",
       "\n",
       "    .dataframe thead th {\n",
       "        text-align: right;\n",
       "    }\n",
       "</style>\n",
       "<table border=\"1\" class=\"dataframe\">\n",
       "  <thead>\n",
       "    <tr style=\"text-align: right;\">\n",
       "      <th></th>\n",
       "      <th>date</th>\n",
       "      <th>business_day</th>\n",
       "    </tr>\n",
       "  </thead>\n",
       "  <tbody>\n",
       "    <tr>\n",
       "      <th>0</th>\n",
       "      <td>2025-02-10</td>\n",
       "      <td>True</td>\n",
       "    </tr>\n",
       "    <tr>\n",
       "      <th>1</th>\n",
       "      <td>2025-02-11</td>\n",
       "      <td>True</td>\n",
       "    </tr>\n",
       "    <tr>\n",
       "      <th>2</th>\n",
       "      <td>2025-02-12</td>\n",
       "      <td>True</td>\n",
       "    </tr>\n",
       "    <tr>\n",
       "      <th>3</th>\n",
       "      <td>2025-02-18</td>\n",
       "      <td>True</td>\n",
       "    </tr>\n",
       "    <tr>\n",
       "      <th>4</th>\n",
       "      <td>2025-02-19</td>\n",
       "      <td>True</td>\n",
       "    </tr>\n",
       "    <tr>\n",
       "      <th>5</th>\n",
       "      <td>2025-02-20</td>\n",
       "      <td>True</td>\n",
       "    </tr>\n",
       "    <tr>\n",
       "      <th>6</th>\n",
       "      <td>2025-02-24</td>\n",
       "      <td>True</td>\n",
       "    </tr>\n",
       "    <tr>\n",
       "      <th>7</th>\n",
       "      <td>2025-02-25</td>\n",
       "      <td>True</td>\n",
       "    </tr>\n",
       "  </tbody>\n",
       "</table>\n",
       "</div>"
      ],
      "text/plain": [
       "         date  business_day\n",
       "0  2025-02-10          True\n",
       "1  2025-02-11          True\n",
       "2  2025-02-12          True\n",
       "3  2025-02-18          True\n",
       "4  2025-02-19          True\n",
       "5  2025-02-20          True\n",
       "6  2025-02-24          True\n",
       "7  2025-02-25          True"
      ]
     },
     "execution_count": 1009,
     "metadata": {},
     "output_type": "execute_result"
    }
   ],
   "source": [
    "print(f'{datetime.now().isoformat()}\\n')\n",
    "service = authenticate_google_calendar()\n",
    "if not isinstance(first_avail_date,str):\n",
    "  print('No early appointments available.')\n",
    "else:\n",
    "  create_event(service)\n",
    "\n",
    "dates_df.to_csv('dates_df.csv', index=False)\n",
    "dates_df.head(10)"
   ]
  }
 ],
 "metadata": {
  "colab": {
   "provenance": []
  },
  "kernelspec": {
   "display_name": "Python 3 (ipykernel)",
   "language": "python",
   "name": "python3"
  },
  "language_info": {
   "codemirror_mode": {
    "name": "ipython",
    "version": 3
   },
   "file_extension": ".py",
   "mimetype": "text/x-python",
   "name": "python",
   "nbconvert_exporter": "python",
   "pygments_lexer": "ipython3",
   "version": "3.11.9"
  }
 },
 "nbformat": 4,
 "nbformat_minor": 4
}
