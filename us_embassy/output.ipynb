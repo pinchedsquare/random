{
 "cells": [
  {
   "cell_type": "code",
   "execution_count": 1,
   "id": "240ab8d7",
   "metadata": {
    "execution": {
     "iopub.execute_input": "2024-09-29T22:40:02.406640Z",
     "iopub.status.busy": "2024-09-29T22:40:02.405933Z",
     "iopub.status.idle": "2024-09-29T22:40:02.412172Z",
     "shell.execute_reply": "2024-09-29T22:40:02.411510Z"
    },
    "id": "7lzDfy1C8reF",
    "papermill": {
     "duration": 0.019953,
     "end_time": "2024-09-29T22:40:02.414141",
     "exception": false,
     "start_time": "2024-09-29T22:40:02.394188",
     "status": "completed"
    },
    "tags": []
   },
   "outputs": [],
   "source": [
    "# !pip install -q pandas\n",
    "# !pip install -q requests google-auth google-api-python-client google-auth-httplib2 google-auth-oauthlib"
   ]
  },
  {
   "cell_type": "code",
   "execution_count": 2,
   "id": "b050e993",
   "metadata": {
    "execution": {
     "iopub.execute_input": "2024-09-29T22:40:02.424247Z",
     "iopub.status.busy": "2024-09-29T22:40:02.423951Z",
     "iopub.status.idle": "2024-09-29T22:40:03.029638Z",
     "shell.execute_reply": "2024-09-29T22:40:03.028834Z"
    },
    "id": "SvSEYc2qKNhQ",
    "papermill": {
     "duration": 0.612228,
     "end_time": "2024-09-29T22:40:03.031950",
     "exception": false,
     "start_time": "2024-09-29T22:40:02.419722",
     "status": "completed"
    },
    "tags": []
   },
   "outputs": [],
   "source": [
    "import copy\n",
    "import json\n",
    "import pandas as pd\n",
    "import requests\n",
    "import re"
   ]
  },
  {
   "cell_type": "code",
   "execution_count": 3,
   "id": "039828fc",
   "metadata": {
    "execution": {
     "iopub.execute_input": "2024-09-29T22:40:03.042365Z",
     "iopub.status.busy": "2024-09-29T22:40:03.041959Z",
     "iopub.status.idle": "2024-09-29T22:40:03.047019Z",
     "shell.execute_reply": "2024-09-29T22:40:03.046518Z"
    },
    "id": "Z7tfS93itqR1",
    "papermill": {
     "duration": 0.010742,
     "end_time": "2024-09-29T22:40:03.048365",
     "exception": false,
     "start_time": "2024-09-29T22:40:03.037623",
     "status": "completed"
    },
    "tags": []
   },
   "outputs": [],
   "source": [
    "default_headers = {\n",
    "    # 'Accept': '*/*;q=0.5, text/javascript, application/javascript, application/ecmascript, application/x-ecmascript' ,\n",
    "    'Accept': 'text/html,application/xhtml+xml,application/xml;q=0.9,image/avif,image/webp,image/apng,*/*;q=0.8,application/signed-exchange;v=b3;q=0.7',\n",
    "    'Accept-Language': 'en-US,en;q=0.9,fa;q=0.8' ,\n",
    "    'Connection': 'keep-alive' ,\n",
    "    # 'Content-Type': 'application/x-www-form-urlencoded; charset=UTF-8' ,\n",
    "    'Content-Type': 'text/html,application/xhtml+xml,application/xml;q=0.9,image/avif,image/webp,image/apng,*/*;q=0.8,application/signed-exchange;v=b3;q=0.7' ,\n",
    "    'Origin': 'https://ais.usvisa-info.com' ,\n",
    "    'Referer': 'https://ais.usvisa-info.com/en-am/niv/users/sign_in' ,\n",
    "    'Sec-Fetch-Dest': 'empty' ,\n",
    "    'Sec-Fetch-Mode': 'cors' ,\n",
    "    'Sec-Fetch-Site': 'same-origin' ,\n",
    "    'User-Agent': 'Mozilla/5.0 (Macintosh; Intel Mac OS X 10_15_7) AppleWebKit/537.36 (KHTML, like Gecko) Chrome/129.0.0.0 Safari/537.36' ,\n",
    "    # 'X-CSRF-Token': '2eCWn/ixpL3flKpJVAGH+Er3KuGVDCSyCNmvqdInBEvXkiigk0txMOnufLYfBbI6RRU9K3xTUOTVgg42oRL5tA==' ,\n",
    "    'X-Requested-With': 'XMLHttpRequest' ,\n",
    "    'sec-ch-ua': '\"Google Chrome\";v=\"129\", \"Not=A?Brand\";v=\"8\", \"Chromium\";v=\"129\"' ,\n",
    "    'sec-ch-ua-mobile': '?0' ,\n",
    "    'sec-ch-ua-platform': '\"macOS\"' ,\n",
    "  }"
   ]
  },
  {
   "cell_type": "code",
   "execution_count": 4,
   "id": "82dba525",
   "metadata": {
    "colab": {
     "base_uri": "https://localhost:8080/"
    },
    "execution": {
     "iopub.execute_input": "2024-09-29T22:40:03.056086Z",
     "iopub.status.busy": "2024-09-29T22:40:03.055854Z",
     "iopub.status.idle": "2024-09-29T22:40:03.922208Z",
     "shell.execute_reply": "2024-09-29T22:40:03.921333Z"
    },
    "id": "jxD4ynZjtmH9",
    "outputId": "ef354bf0-4702-4916-82b2-c0fc4a64130a",
    "papermill": {
     "duration": 0.872493,
     "end_time": "2024-09-29T22:40:03.924387",
     "exception": false,
     "start_time": "2024-09-29T22:40:03.051894",
     "status": "completed"
    },
    "tags": []
   },
   "outputs": [
    {
     "data": {
      "text/plain": [
       "200"
      ]
     },
     "execution_count": 4,
     "metadata": {},
     "output_type": "execute_result"
    }
   ],
   "source": [
    "res = requests.get(\n",
    "    'https://ais.usvisa-info.com/en-ke/niv/users/sign_in',\n",
    "    headers = default_headers)\n",
    "res.status_code"
   ]
  },
  {
   "cell_type": "code",
   "execution_count": 5,
   "id": "c4c19eb8",
   "metadata": {
    "colab": {
     "base_uri": "https://localhost:8080/"
    },
    "execution": {
     "iopub.execute_input": "2024-09-29T22:40:03.938931Z",
     "iopub.status.busy": "2024-09-29T22:40:03.938589Z",
     "iopub.status.idle": "2024-09-29T22:40:03.948590Z",
     "shell.execute_reply": "2024-09-29T22:40:03.947998Z"
    },
    "id": "PXA16IphvdTW",
    "outputId": "cf536218-dd10-4865-d93c-ad2b848f64e9",
    "papermill": {
     "duration": 0.017468,
     "end_time": "2024-09-29T22:40:03.949995",
     "exception": false,
     "start_time": "2024-09-29T22:40:03.932527",
     "status": "completed"
    },
    "tags": []
   },
   "outputs": [
    {
     "name": "stdout",
     "output_type": "stream",
     "text": [
      "X-CSRF-Token retrieved.\n"
     ]
    }
   ],
   "source": [
    "cookies = res.cookies\n",
    "csrf_token = None\n",
    "csrf_match = re.search(r'<meta name=\"csrf-token\" content=\"(.*?)\"',\n",
    "                      str(res.content))\n",
    "if csrf_match:\n",
    "  csrf_token = csrf_match.group(1)\n",
    "  print(f'X-CSRF-Token retrieved.')\n",
    "else:\n",
    "  print(\"No X-CSRF-Token found.\")"
   ]
  },
  {
   "cell_type": "code",
   "execution_count": 6,
   "id": "0ca2f5b5",
   "metadata": {
    "colab": {
     "base_uri": "https://localhost:8080/"
    },
    "execution": {
     "iopub.execute_input": "2024-09-29T22:40:03.958748Z",
     "iopub.status.busy": "2024-09-29T22:40:03.958516Z",
     "iopub.status.idle": "2024-09-29T22:40:04.621515Z",
     "shell.execute_reply": "2024-09-29T22:40:04.620203Z"
    },
    "id": "6AOG3qhPymTW",
    "outputId": "dc07b514-eced-411a-d468-5a9dfa1af282",
    "papermill": {
     "duration": 0.670177,
     "end_time": "2024-09-29T22:40:04.624460",
     "exception": false,
     "start_time": "2024-09-29T22:40:03.954283",
     "status": "completed"
    },
    "tags": []
   },
   "outputs": [
    {
     "name": "stdout",
     "output_type": "stream",
     "text": [
      "status code: 200\n",
      "$('#authFactor.reveal').foundation('close')\n",
      "$.blockUI( {message: \"\", css: { border: 'none', padding: '15px', backgroundColor: '#000', '-webkit-border-radius': '10px', '-moz-border-radius': '10px', opacity: .5, color: '#fff'}})\n",
      "window.location.pathname=\"/en-ke/niv/account\"\n",
      "\n"
     ]
    }
   ],
   "source": [
    "headers = copy.deepcopy(default_headers)\n",
    "headers['X-CSRF-Token'] = csrf_token\n",
    "headers['Content-Type'] = 'application/x-www-form-urlencoded; charset=UTF-8'\n",
    "res = requests.post('https://ais.usvisa-info.com/en-ke/niv/users/sign_in',\n",
    "    headers=headers,\n",
    "    cookies=cookies,\n",
    "    data={\n",
    "       'user[email]': 'delaramali.delaramali@gmail.com',\n",
    "       'user[password]': 'Kenya@2024',\n",
    "       'policy_confirmed': '1',\n",
    "       'commit': 'Sign In',\n",
    "    })\n",
    "print(f'status code: {res.status_code}')\n",
    "print(f'{res.content.decode(\"utf-8\")}')"
   ]
  },
  {
   "cell_type": "code",
   "execution_count": 7,
   "id": "47af1150",
   "metadata": {
    "colab": {
     "base_uri": "https://localhost:8080/"
    },
    "execution": {
     "iopub.execute_input": "2024-09-29T22:40:04.639537Z",
     "iopub.status.busy": "2024-09-29T22:40:04.639246Z",
     "iopub.status.idle": "2024-09-29T22:40:05.386291Z",
     "shell.execute_reply": "2024-09-29T22:40:05.385520Z"
    },
    "id": "-zeYBJKzzIG-",
    "outputId": "4fa4759e-1cde-47b9-d26f-5b34ae080b88",
    "papermill": {
     "duration": 0.754196,
     "end_time": "2024-09-29T22:40:05.388140",
     "exception": false,
     "start_time": "2024-09-29T22:40:04.633944",
     "status": "completed"
    },
    "tags": []
   },
   "outputs": [
    {
     "data": {
      "text/plain": [
       "302"
      ]
     },
     "execution_count": 7,
     "metadata": {},
     "output_type": "execute_result"
    }
   ],
   "source": [
    "res = requests.get(\n",
    "    'https://ais.usvisa-info.com/en-ke/niv/account',\n",
    "    headers = default_headers,\n",
    "    cookies = res.cookies,\n",
    "    allow_redirects=False)\n",
    "res.status_code"
   ]
  },
  {
   "cell_type": "code",
   "execution_count": 8,
   "id": "458194ba",
   "metadata": {
    "colab": {
     "base_uri": "https://localhost:8080/"
    },
    "execution": {
     "iopub.execute_input": "2024-09-29T22:40:05.400239Z",
     "iopub.status.busy": "2024-09-29T22:40:05.399775Z",
     "iopub.status.idle": "2024-09-29T22:40:06.384461Z",
     "shell.execute_reply": "2024-09-29T22:40:06.383735Z"
    },
    "id": "kGlWN85d1M_Y",
    "outputId": "43f9a787-d301-43be-854e-a001aa53d129",
    "papermill": {
     "duration": 0.99287,
     "end_time": "2024-09-29T22:40:06.387057",
     "exception": false,
     "start_time": "2024-09-29T22:40:05.394187",
     "status": "completed"
    },
    "tags": []
   },
   "outputs": [
    {
     "data": {
      "text/plain": [
       "200"
      ]
     },
     "execution_count": 8,
     "metadata": {},
     "output_type": "execute_result"
    }
   ],
   "source": [
    "res = requests.get(\n",
    "    'https://ais.usvisa-info.com/en-ke/niv/groups/43464236',\n",
    "    headers = default_headers,\n",
    "    cookies = res.cookies,\n",
    "    allow_redirects=False)\n",
    "res.status_code"
   ]
  },
  {
   "cell_type": "code",
   "execution_count": 9,
   "id": "0e960788",
   "metadata": {
    "colab": {
     "base_uri": "https://localhost:8080/"
    },
    "execution": {
     "iopub.execute_input": "2024-09-29T22:40:06.402610Z",
     "iopub.status.busy": "2024-09-29T22:40:06.402236Z",
     "iopub.status.idle": "2024-09-29T22:40:07.297115Z",
     "shell.execute_reply": "2024-09-29T22:40:07.296183Z"
    },
    "id": "k3JS9HSS3HIG",
    "outputId": "812da7ec-3612-49be-bf06-20ff150b5e2a",
    "papermill": {
     "duration": 0.903804,
     "end_time": "2024-09-29T22:40:07.299496",
     "exception": false,
     "start_time": "2024-09-29T22:40:06.395692",
     "status": "completed"
    },
    "tags": []
   },
   "outputs": [
    {
     "name": "stdout",
     "output_type": "stream",
     "text": [
      "response code: 200\n",
      "Successfully loaded the appointment page.\n"
     ]
    }
   ],
   "source": [
    "res = requests.get(\n",
    "    'https://ais.usvisa-info.com/en-ke/niv/schedule/61475787/appointment?applicants%5B%5D=72890185&applicants%5B%5D=72890374&confirmed_limit_message=1&commit=Continue',\n",
    "    headers = default_headers,\n",
    "    cookies = res.cookies,\n",
    "    allow_redirects=False)\n",
    "print(f'response code: {res.status_code}')\n",
    "if 'Reschedule' in str(res.content):\n",
    "  print('Successfully loaded the appointment page.')\n",
    "else:\n",
    "  print('Failed to load the appointment page')"
   ]
  },
  {
   "cell_type": "code",
   "execution_count": 10,
   "id": "250359c2",
   "metadata": {
    "colab": {
     "base_uri": "https://localhost:8080/"
    },
    "execution": {
     "iopub.execute_input": "2024-09-29T22:40:07.314263Z",
     "iopub.status.busy": "2024-09-29T22:40:07.313981Z",
     "iopub.status.idle": "2024-09-29T22:40:08.194303Z",
     "shell.execute_reply": "2024-09-29T22:40:08.193395Z"
    },
    "id": "pbTqPnoC3kgc",
    "outputId": "e73132be-631f-4d9d-d2ab-9545a8aceef7",
    "papermill": {
     "duration": 0.888012,
     "end_time": "2024-09-29T22:40:08.196499",
     "exception": false,
     "start_time": "2024-09-29T22:40:07.308487",
     "status": "completed"
    },
    "tags": []
   },
   "outputs": [
    {
     "data": {
      "text/plain": [
       "200"
      ]
     },
     "execution_count": 10,
     "metadata": {},
     "output_type": "execute_result"
    }
   ],
   "source": [
    "headers = copy.deepcopy(default_headers)\n",
    "headers['Accept'] = 'application/json, text/javascript, */*; q=0.01'\n",
    "res = requests.get(\n",
    "    'https://ais.usvisa-info.com/en-ke/niv/schedule/61475787/appointment/days/104.json?appointments[expedite]=false',\n",
    "    headers = default_headers,\n",
    "    cookies = res.cookies,\n",
    "    allow_redirects=False)\n",
    "res.status_code"
   ]
  },
  {
   "cell_type": "code",
   "execution_count": 11,
   "id": "7e5e1029",
   "metadata": {
    "colab": {
     "base_uri": "https://localhost:8080/"
    },
    "execution": {
     "iopub.execute_input": "2024-09-29T22:40:08.211269Z",
     "iopub.status.busy": "2024-09-29T22:40:08.210988Z",
     "iopub.status.idle": "2024-09-29T22:40:08.220735Z",
     "shell.execute_reply": "2024-09-29T22:40:08.220062Z"
    },
    "id": "GtZPx7Go4tZE",
    "outputId": "57cd24c5-2668-4cb4-c7ba-454c0a634fd3",
    "papermill": {
     "duration": 0.016676,
     "end_time": "2024-09-29T22:40:08.222101",
     "exception": false,
     "start_time": "2024-09-29T22:40:08.205425",
     "status": "completed"
    },
    "tags": []
   },
   "outputs": [
    {
     "name": "stdout",
     "output_type": "stream",
     "text": [
      "First available appointment: 2024-10-03\n"
     ]
    }
   ],
   "source": [
    "date_to_comapre = '2024-11-20'\n",
    "\n",
    "dates_df = pd.json_normalize(json.loads(res.content))\n",
    "first_avail_date = dates_df[dates_df['date'] < date_to_comapre]\n",
    "if first_avail_date.empty:\n",
    "  print('No early appointments available.')\n",
    "else:\n",
    "  first_avail_date = first_avail_date.sort_values(by='date', ascending=True).head(1).values[0][0]\n",
    "  print(f'First available appointment: {first_avail_date}')"
   ]
  },
  {
   "cell_type": "code",
   "execution_count": 12,
   "id": "9010124f",
   "metadata": {
    "execution": {
     "iopub.execute_input": "2024-09-29T22:40:08.232669Z",
     "iopub.status.busy": "2024-09-29T22:40:08.232406Z",
     "iopub.status.idle": "2024-09-29T22:40:08.239513Z",
     "shell.execute_reply": "2024-09-29T22:40:08.238946Z"
    },
    "id": "_f4oQuXW8y9K",
    "papermill": {
     "duration": 0.013878,
     "end_time": "2024-09-29T22:40:08.241014",
     "exception": false,
     "start_time": "2024-09-29T22:40:08.227136",
     "status": "completed"
    },
    "tags": []
   },
   "outputs": [],
   "source": [
    "import pytz\n",
    "from datetime import timedelta, datetime\n",
    "event = None\n",
    "\n",
    "def create_event(service):\n",
    "    # Create an event on the primary calendar\n",
    "    # Get the Hawaiian timezone\n",
    "    hawaiian_tz = pytz.timezone('Pacific/Honolulu')\n",
    "\n",
    "    # Get the current time in UTC\n",
    "    utc_now = datetime.now(pytz.utc)\n",
    "\n",
    "    # Convert the UTC time to Hawaiian time\n",
    "    start_time = utc_now.astimezone(hawaiian_tz) + timedelta(minutes=5)\n",
    "\n",
    "    event = {\n",
    "      'summary': 'US Visa Appointment',\n",
    "      'description': f'First available appointment: {first_avail_date}',\n",
    "      'start': {\n",
    "        'dateTime': start_time.isoformat(),\n",
    "        'timeZone': 'Pacific/Honolulu',\n",
    "      },\n",
    "      'end': {\n",
    "        'dateTime': (start_time + timedelta(hours=1)).isoformat(),\n",
    "        'timeZone': 'Pacific/Honolulu',\n",
    "      },\n",
    "      'creator': {\n",
    "         'email': 'alireza.ali@gmail.com',\n",
    "      },\n",
    "      # 'recurrence': [\n",
    "      #   'RRULE:FREQ=DAILY;COUNT=2'\n",
    "      # ],\n",
    "      'attendees': [\n",
    "        {'email': 'alireza.ali@gmail.com'},\n",
    "        {'email': 'pinchedsquare@email2phone.net'},\n",
    "      ],\n",
    "      'reminders': {\n",
    "        'useDefault': False,\n",
    "        'overrides': [\n",
    "          {'method': 'email', 'minutes': 1},\n",
    "          {'method': 'popup', 'minutes': 1},\n",
    "        ],\n",
    "      },\n",
    "    }\n",
    "\n",
    "    event = service.events().insert(\n",
    "        calendarId='primary', \n",
    "        body=event,\n",
    "        sendUpdates='all',\n",
    "    ).execute()\n",
    "    print(f'Event created: {event.get(\"htmlLink\")}')"
   ]
  },
  {
   "cell_type": "code",
   "execution_count": 13,
   "id": "4d4df060",
   "metadata": {
    "execution": {
     "iopub.execute_input": "2024-09-29T22:40:08.252611Z",
     "iopub.status.busy": "2024-09-29T22:40:08.252259Z",
     "iopub.status.idle": "2024-09-29T22:40:08.422149Z",
     "shell.execute_reply": "2024-09-29T22:40:08.421332Z"
    },
    "id": "h7ExISsL93YZ",
    "papermill": {
     "duration": 0.177712,
     "end_time": "2024-09-29T22:40:08.424322",
     "exception": false,
     "start_time": "2024-09-29T22:40:08.246610",
     "status": "completed"
    },
    "tags": []
   },
   "outputs": [],
   "source": [
    "from google.oauth2.credentials import Credentials\n",
    "from google_auth_oauthlib.flow import InstalledAppFlow\n",
    "from google.auth.transport.requests import Request\n",
    "from googleapiclient.discovery import build\n",
    "import os\n",
    "\n",
    "# /content/drive/MyDrive/Colab Notebooks/client_secret_1020799066832-37ba3r1pimcrf4cf8l0qub4ga13u2e1t.apps.googleusercontent.com.json\n",
    "\n",
    "SCOPES = ['https://www.googleapis.com/auth/calendar.events']\n",
    "\n",
    "def authenticate_google_calendar():\n",
    "    creds = None\n",
    "    redirect_uri = \"https://developers.google.com/oauthplayground\"  # Specify the redirect_uri\n",
    "\n",
    "    if os.path.exists('token.json'):\n",
    "        creds = Credentials.from_authorized_user_file('token.json', SCOPES)\n",
    "    if not creds or not creds.valid:\n",
    "        if creds and creds.expired and creds.refresh_token:\n",
    "            creds.refresh(Request())\n",
    "        else:\n",
    "            flow = InstalledAppFlow.from_client_secrets_file(\n",
    "                'client_secret_1020799066832-37ba3r1pimcrf4cf8l0qub4ga13u2e1t.apps.googleusercontent.com.json',\n",
    "                SCOPES)\n",
    "            flow.redirect_uri = redirect_uri\n",
    "            # Removed redirect_uri from this call as it's already specified above\n",
    "            auth_url, _ = flow.authorization_url(prompt='consent')\n",
    "\n",
    "            print(f'Please go to this URL and authorize the app: {auth_url}')\n",
    "            code = input('Enter the authorization code: ')\n",
    "            flow.fetch_token(code=code)\n",
    "\n",
    "            creds = flow.credentials\n",
    "\n",
    "        # Save the credentials for the next run\n",
    "        with open('token.json', 'w') as token:\n",
    "            token.write(creds.to_json())\n",
    "\n",
    "    return build('calendar', 'v3', credentials=creds)"
   ]
  },
  {
   "cell_type": "code",
   "execution_count": 14,
   "id": "ae984072",
   "metadata": {
    "colab": {
     "base_uri": "https://localhost:8080/",
     "height": 380
    },
    "execution": {
     "iopub.execute_input": "2024-09-29T22:40:08.436738Z",
     "iopub.status.busy": "2024-09-29T22:40:08.436242Z",
     "iopub.status.idle": "2024-09-29T22:40:09.636774Z",
     "shell.execute_reply": "2024-09-29T22:40:09.635878Z"
    },
    "id": "AptmSjJq84NF",
    "outputId": "d094dfb5-9cf6-42b1-8803-dac0ef50f4b3",
    "papermill": {
     "duration": 1.207851,
     "end_time": "2024-09-29T22:40:09.638761",
     "exception": false,
     "start_time": "2024-09-29T22:40:08.430910",
     "status": "completed"
    },
    "tags": []
   },
   "outputs": [
    {
     "name": "stdout",
     "output_type": "stream",
     "text": [
      "2024-09-29T12:40:08.438771\n",
      "\n"
     ]
    },
    {
     "name": "stdout",
     "output_type": "stream",
     "text": [
      "Event created: https://www.google.com/calendar/event?eid=MWYzMGJxbGhybzA0NGQ2M2Rqc2hwY244am8gYWxpcmV6YS5hbGlAbQ\n"
     ]
    },
    {
     "data": {
      "text/html": [
       "<div>\n",
       "<style scoped>\n",
       "    .dataframe tbody tr th:only-of-type {\n",
       "        vertical-align: middle;\n",
       "    }\n",
       "\n",
       "    .dataframe tbody tr th {\n",
       "        vertical-align: top;\n",
       "    }\n",
       "\n",
       "    .dataframe thead th {\n",
       "        text-align: right;\n",
       "    }\n",
       "</style>\n",
       "<table border=\"1\" class=\"dataframe\">\n",
       "  <thead>\n",
       "    <tr style=\"text-align: right;\">\n",
       "      <th></th>\n",
       "      <th>date</th>\n",
       "      <th>business_day</th>\n",
       "    </tr>\n",
       "  </thead>\n",
       "  <tbody>\n",
       "    <tr>\n",
       "      <th>0</th>\n",
       "      <td>2024-10-03</td>\n",
       "      <td>True</td>\n",
       "    </tr>\n",
       "    <tr>\n",
       "      <th>1</th>\n",
       "      <td>2024-12-06</td>\n",
       "      <td>True</td>\n",
       "    </tr>\n",
       "    <tr>\n",
       "      <th>2</th>\n",
       "      <td>2024-12-09</td>\n",
       "      <td>True</td>\n",
       "    </tr>\n",
       "    <tr>\n",
       "      <th>3</th>\n",
       "      <td>2024-12-10</td>\n",
       "      <td>True</td>\n",
       "    </tr>\n",
       "    <tr>\n",
       "      <th>4</th>\n",
       "      <td>2025-01-23</td>\n",
       "      <td>True</td>\n",
       "    </tr>\n",
       "    <tr>\n",
       "      <th>5</th>\n",
       "      <td>2025-01-27</td>\n",
       "      <td>True</td>\n",
       "    </tr>\n",
       "    <tr>\n",
       "      <th>6</th>\n",
       "      <td>2025-02-06</td>\n",
       "      <td>True</td>\n",
       "    </tr>\n",
       "    <tr>\n",
       "      <th>7</th>\n",
       "      <td>2025-02-07</td>\n",
       "      <td>True</td>\n",
       "    </tr>\n",
       "    <tr>\n",
       "      <th>8</th>\n",
       "      <td>2025-02-18</td>\n",
       "      <td>True</td>\n",
       "    </tr>\n",
       "    <tr>\n",
       "      <th>9</th>\n",
       "      <td>2025-02-19</td>\n",
       "      <td>True</td>\n",
       "    </tr>\n",
       "  </tbody>\n",
       "</table>\n",
       "</div>"
      ],
      "text/plain": [
       "         date  business_day\n",
       "0  2024-10-03          True\n",
       "1  2024-12-06          True\n",
       "2  2024-12-09          True\n",
       "3  2024-12-10          True\n",
       "4  2025-01-23          True\n",
       "5  2025-01-27          True\n",
       "6  2025-02-06          True\n",
       "7  2025-02-07          True\n",
       "8  2025-02-18          True\n",
       "9  2025-02-19          True"
      ]
     },
     "execution_count": 14,
     "metadata": {},
     "output_type": "execute_result"
    }
   ],
   "source": [
    "now_time = datetime.now().isoformat()\n",
    "print(f'{now_time}\\n')\n",
    "service = authenticate_google_calendar()\n",
    "if not isinstance(first_avail_date,str):\n",
    "  # first_avail_date = \n",
    "  print('No early appointments available.')\n",
    "else:\n",
    "  create_event(service)\n",
    "\n",
    "dates_df.to_csv('dates_df.csv', index=False)\n",
    "dates_df.head(10)"
   ]
  },
  {
   "cell_type": "code",
   "execution_count": 15,
   "id": "28203254",
   "metadata": {
    "execution": {
     "iopub.execute_input": "2024-09-29T22:40:09.651450Z",
     "iopub.status.busy": "2024-09-29T22:40:09.651178Z",
     "iopub.status.idle": "2024-09-29T22:40:11.883398Z",
     "shell.execute_reply": "2024-09-29T22:40:11.882504Z"
    },
    "papermill": {
     "duration": 2.239997,
     "end_time": "2024-09-29T22:40:11.885590",
     "exception": false,
     "start_time": "2024-09-29T22:40:09.645593",
     "status": "completed"
    },
    "tags": []
   },
   "outputs": [
    {
     "data": {
      "text/plain": [
       "200"
      ]
     },
     "execution_count": 15,
     "metadata": {},
     "output_type": "execute_result"
    }
   ],
   "source": [
    "res = requests.get(\n",
    "    'https://posttestserver.dev/p/pinchedsquare/post',\n",
    "    params={\n",
    "        'success': 1,\n",
    "        'latest_appointment': dates_df.iloc[0]['date'],\n",
    "        'last_run' : now_time,\n",
    "    }\n",
    ")\n",
    "res.status_code"
   ]
  }
 ],
 "metadata": {
  "colab": {
   "provenance": []
  },
  "kernelspec": {
   "display_name": "Python 3 (ipykernel)",
   "language": "python",
   "name": "python3"
  },
  "language_info": {
   "codemirror_mode": {
    "name": "ipython",
    "version": 3
   },
   "file_extension": ".py",
   "mimetype": "text/x-python",
   "name": "python",
   "nbconvert_exporter": "python",
   "pygments_lexer": "ipython3",
   "version": "3.11.9"
  },
  "papermill": {
   "default_parameters": {},
   "duration": 11.454504,
   "end_time": "2024-09-29T22:40:12.524712",
   "environment_variables": {},
   "exception": null,
   "input_path": "/Users/alirezaali/workspace/random/us_embassy//US_Visa.ipynb",
   "output_path": "/Users/alirezaali/workspace/random/us_embassy//output.ipynb",
   "parameters": {},
   "start_time": "2024-09-29T22:40:01.070208",
   "version": "2.6.0"
  }
 },
 "nbformat": 4,
 "nbformat_minor": 5
}