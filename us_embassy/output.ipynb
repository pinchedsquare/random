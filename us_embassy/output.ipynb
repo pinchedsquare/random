{
 "cells": [
  {
   "cell_type": "code",
   "execution_count": 1,
   "id": "59ca3418",
   "metadata": {
    "execution": {
     "iopub.execute_input": "2024-09-27T07:00:03.971555Z",
     "iopub.status.busy": "2024-09-27T07:00:03.970908Z",
     "iopub.status.idle": "2024-09-27T07:00:03.981941Z",
     "shell.execute_reply": "2024-09-27T07:00:03.980939Z"
    },
    "id": "7lzDfy1C8reF",
    "papermill": {
     "duration": 0.026636,
     "end_time": "2024-09-27T07:00:03.984331",
     "exception": false,
     "start_time": "2024-09-27T07:00:03.957695",
     "status": "completed"
    },
    "tags": []
   },
   "outputs": [],
   "source": [
    "# !pip install -q pandas\n",
    "# !pip install -q requests google-auth google-api-python-client google-auth-httplib2 google-auth-oauthlib"
   ]
  },
  {
   "cell_type": "code",
   "execution_count": 2,
   "id": "3176d9b4",
   "metadata": {
    "execution": {
     "iopub.execute_input": "2024-09-27T07:00:03.995782Z",
     "iopub.status.busy": "2024-09-27T07:00:03.995425Z",
     "iopub.status.idle": "2024-09-27T07:00:04.752754Z",
     "shell.execute_reply": "2024-09-27T07:00:04.751749Z"
    },
    "id": "SvSEYc2qKNhQ",
    "papermill": {
     "duration": 0.764123,
     "end_time": "2024-09-27T07:00:04.754989",
     "exception": false,
     "start_time": "2024-09-27T07:00:03.990866",
     "status": "completed"
    },
    "tags": []
   },
   "outputs": [],
   "source": [
    "import copy\n",
    "import json\n",
    "import pandas as pd\n",
    "import requests\n",
    "import re"
   ]
  },
  {
   "cell_type": "code",
   "execution_count": 3,
   "id": "c44d0ae2",
   "metadata": {
    "execution": {
     "iopub.execute_input": "2024-09-27T07:00:04.766081Z",
     "iopub.status.busy": "2024-09-27T07:00:04.765619Z",
     "iopub.status.idle": "2024-09-27T07:00:04.774213Z",
     "shell.execute_reply": "2024-09-27T07:00:04.773515Z"
    },
    "id": "Z7tfS93itqR1",
    "papermill": {
     "duration": 0.015035,
     "end_time": "2024-09-27T07:00:04.775682",
     "exception": false,
     "start_time": "2024-09-27T07:00:04.760647",
     "status": "completed"
    },
    "tags": []
   },
   "outputs": [],
   "source": [
    "default_headers = {\n",
    "    # 'Accept': '*/*;q=0.5, text/javascript, application/javascript, application/ecmascript, application/x-ecmascript' ,\n",
    "    'Accept': 'text/html,application/xhtml+xml,application/xml;q=0.9,image/avif,image/webp,image/apng,*/*;q=0.8,application/signed-exchange;v=b3;q=0.7',\n",
    "    'Accept-Language': 'en-US,en;q=0.9,fa;q=0.8' ,\n",
    "    'Connection': 'keep-alive' ,\n",
    "    # 'Content-Type': 'application/x-www-form-urlencoded; charset=UTF-8' ,\n",
    "    'Content-Type': 'text/html,application/xhtml+xml,application/xml;q=0.9,image/avif,image/webp,image/apng,*/*;q=0.8,application/signed-exchange;v=b3;q=0.7' ,\n",
    "    'Origin': 'https://ais.usvisa-info.com' ,\n",
    "    'Referer': 'https://ais.usvisa-info.com/en-am/niv/users/sign_in' ,\n",
    "    'Sec-Fetch-Dest': 'empty' ,\n",
    "    'Sec-Fetch-Mode': 'cors' ,\n",
    "    'Sec-Fetch-Site': 'same-origin' ,\n",
    "    'User-Agent': 'Mozilla/5.0 (Macintosh; Intel Mac OS X 10_15_7) AppleWebKit/537.36 (KHTML, like Gecko) Chrome/129.0.0.0 Safari/537.36' ,\n",
    "    # 'X-CSRF-Token': '2eCWn/ixpL3flKpJVAGH+Er3KuGVDCSyCNmvqdInBEvXkiigk0txMOnufLYfBbI6RRU9K3xTUOTVgg42oRL5tA==' ,\n",
    "    'X-Requested-With': 'XMLHttpRequest' ,\n",
    "    'sec-ch-ua': '\"Google Chrome\";v=\"129\", \"Not=A?Brand\";v=\"8\", \"Chromium\";v=\"129\"' ,\n",
    "    'sec-ch-ua-mobile': '?0' ,\n",
    "    'sec-ch-ua-platform': '\"macOS\"' ,\n",
    "  }"
   ]
  },
  {
   "cell_type": "code",
   "execution_count": 4,
   "id": "f5fbb4e5",
   "metadata": {
    "colab": {
     "base_uri": "https://localhost:8080/"
    },
    "execution": {
     "iopub.execute_input": "2024-09-27T07:00:04.784966Z",
     "iopub.status.busy": "2024-09-27T07:00:04.784684Z",
     "iopub.status.idle": "2024-09-27T07:00:08.495429Z",
     "shell.execute_reply": "2024-09-27T07:00:08.494563Z"
    },
    "id": "jxD4ynZjtmH9",
    "outputId": "ef354bf0-4702-4916-82b2-c0fc4a64130a",
    "papermill": {
     "duration": 3.718481,
     "end_time": "2024-09-27T07:00:08.498271",
     "exception": false,
     "start_time": "2024-09-27T07:00:04.779790",
     "status": "completed"
    },
    "tags": []
   },
   "outputs": [
    {
     "data": {
      "text/plain": [
       "200"
      ]
     },
     "execution_count": 4,
     "metadata": {},
     "output_type": "execute_result"
    }
   ],
   "source": [
    "res = requests.get(\n",
    "    'https://ais.usvisa-info.com/en-ke/niv/users/sign_in',\n",
    "    headers = default_headers)\n",
    "res.status_code"
   ]
  },
  {
   "cell_type": "code",
   "execution_count": 5,
   "id": "80ccbd69",
   "metadata": {
    "colab": {
     "base_uri": "https://localhost:8080/"
    },
    "execution": {
     "iopub.execute_input": "2024-09-27T07:00:08.510617Z",
     "iopub.status.busy": "2024-09-27T07:00:08.510275Z",
     "iopub.status.idle": "2024-09-27T07:00:08.518025Z",
     "shell.execute_reply": "2024-09-27T07:00:08.517267Z"
    },
    "id": "PXA16IphvdTW",
    "outputId": "cf536218-dd10-4865-d93c-ad2b848f64e9",
    "papermill": {
     "duration": 0.014315,
     "end_time": "2024-09-27T07:00:08.519643",
     "exception": false,
     "start_time": "2024-09-27T07:00:08.505328",
     "status": "completed"
    },
    "tags": []
   },
   "outputs": [
    {
     "name": "stdout",
     "output_type": "stream",
     "text": [
      "X-CSRF-Token retrieved.\n"
     ]
    }
   ],
   "source": [
    "cookies = res.cookies\n",
    "csrf_token = None\n",
    "csrf_match = re.search(r'<meta name=\"csrf-token\" content=\"(.*?)\"',\n",
    "                      str(res.content))\n",
    "if csrf_match:\n",
    "  csrf_token = csrf_match.group(1)\n",
    "  print(f'X-CSRF-Token retrieved.')\n",
    "else:\n",
    "  print(\"No X-CSRF-Token found.\")"
   ]
  },
  {
   "cell_type": "code",
   "execution_count": 6,
   "id": "bfa84e8b",
   "metadata": {
    "colab": {
     "base_uri": "https://localhost:8080/"
    },
    "execution": {
     "iopub.execute_input": "2024-09-27T07:00:08.530255Z",
     "iopub.status.busy": "2024-09-27T07:00:08.529904Z",
     "iopub.status.idle": "2024-09-27T07:00:10.374698Z",
     "shell.execute_reply": "2024-09-27T07:00:10.373501Z"
    },
    "id": "6AOG3qhPymTW",
    "outputId": "dc07b514-eced-411a-d468-5a9dfa1af282",
    "papermill": {
     "duration": 1.852836,
     "end_time": "2024-09-27T07:00:10.377727",
     "exception": false,
     "start_time": "2024-09-27T07:00:08.524891",
     "status": "completed"
    },
    "tags": []
   },
   "outputs": [
    {
     "name": "stdout",
     "output_type": "stream",
     "text": [
      "status code: 200\n",
      "$('#authFactor.reveal').foundation('close')\n",
      "$.blockUI( {message: \"\", css: { border: 'none', padding: '15px', backgroundColor: '#000', '-webkit-border-radius': '10px', '-moz-border-radius': '10px', opacity: .5, color: '#fff'}})\n",
      "window.location.pathname=\"/en-ke/niv/account\"\n",
      "\n"
     ]
    }
   ],
   "source": [
    "headers = copy.deepcopy(default_headers)\n",
    "headers['X-CSRF-Token'] = csrf_token\n",
    "headers['Content-Type'] = 'application/x-www-form-urlencoded; charset=UTF-8'\n",
    "res = requests.post('https://ais.usvisa-info.com/en-ke/niv/users/sign_in',\n",
    "    headers=headers,\n",
    "    cookies=cookies,\n",
    "    data={\n",
    "       'user[email]': 'delaramali.delaramali@gmail.com',\n",
    "       'user[password]': 'Kenya@2024',\n",
    "       'policy_confirmed': '1',\n",
    "       'commit': 'Sign In',\n",
    "    })\n",
    "print(f'status code: {res.status_code}')\n",
    "print(f'{res.content.decode(\"utf-8\")}')"
   ]
  },
  {
   "cell_type": "code",
   "execution_count": 7,
   "id": "7308fdce",
   "metadata": {
    "colab": {
     "base_uri": "https://localhost:8080/"
    },
    "execution": {
     "iopub.execute_input": "2024-09-27T07:00:10.393033Z",
     "iopub.status.busy": "2024-09-27T07:00:10.392627Z",
     "iopub.status.idle": "2024-09-27T07:00:12.235015Z",
     "shell.execute_reply": "2024-09-27T07:00:12.234118Z"
    },
    "id": "-zeYBJKzzIG-",
    "outputId": "4fa4759e-1cde-47b9-d26f-5b34ae080b88",
    "papermill": {
     "duration": 1.851999,
     "end_time": "2024-09-27T07:00:12.237329",
     "exception": false,
     "start_time": "2024-09-27T07:00:10.385330",
     "status": "completed"
    },
    "tags": []
   },
   "outputs": [
    {
     "data": {
      "text/plain": [
       "302"
      ]
     },
     "execution_count": 7,
     "metadata": {},
     "output_type": "execute_result"
    }
   ],
   "source": [
    "res = requests.get(\n",
    "    'https://ais.usvisa-info.com/en-ke/niv/account',\n",
    "    headers = default_headers,\n",
    "    cookies = res.cookies,\n",
    "    allow_redirects=False)\n",
    "res.status_code"
   ]
  },
  {
   "cell_type": "code",
   "execution_count": 8,
   "id": "f1610e49",
   "metadata": {
    "colab": {
     "base_uri": "https://localhost:8080/"
    },
    "execution": {
     "iopub.execute_input": "2024-09-27T07:00:12.252337Z",
     "iopub.status.busy": "2024-09-27T07:00:12.251983Z",
     "iopub.status.idle": "2024-09-27T07:00:14.564942Z",
     "shell.execute_reply": "2024-09-27T07:00:14.563775Z"
    },
    "id": "kGlWN85d1M_Y",
    "outputId": "43f9a787-d301-43be-854e-a001aa53d129",
    "papermill": {
     "duration": 2.322414,
     "end_time": "2024-09-27T07:00:14.567689",
     "exception": false,
     "start_time": "2024-09-27T07:00:12.245275",
     "status": "completed"
    },
    "tags": []
   },
   "outputs": [
    {
     "data": {
      "text/plain": [
       "200"
      ]
     },
     "execution_count": 8,
     "metadata": {},
     "output_type": "execute_result"
    }
   ],
   "source": [
    "res = requests.get(\n",
    "    'https://ais.usvisa-info.com/en-ke/niv/groups/43464236',\n",
    "    headers = default_headers,\n",
    "    cookies = res.cookies,\n",
    "    allow_redirects=False)\n",
    "res.status_code"
   ]
  },
  {
   "cell_type": "code",
   "execution_count": 9,
   "id": "1cf3cc3f",
   "metadata": {
    "colab": {
     "base_uri": "https://localhost:8080/"
    },
    "execution": {
     "iopub.execute_input": "2024-09-27T07:00:14.583439Z",
     "iopub.status.busy": "2024-09-27T07:00:14.583105Z",
     "iopub.status.idle": "2024-09-27T07:00:19.732463Z",
     "shell.execute_reply": "2024-09-27T07:00:19.731235Z"
    },
    "id": "k3JS9HSS3HIG",
    "outputId": "812da7ec-3612-49be-bf06-20ff150b5e2a",
    "papermill": {
     "duration": 5.15873,
     "end_time": "2024-09-27T07:00:19.735340",
     "exception": false,
     "start_time": "2024-09-27T07:00:14.576610",
     "status": "completed"
    },
    "tags": []
   },
   "outputs": [
    {
     "name": "stdout",
     "output_type": "stream",
     "text": [
      "response code: 200\n",
      "Successfully loaded the appointment page.\n"
     ]
    }
   ],
   "source": [
    "res = requests.get(\n",
    "    'https://ais.usvisa-info.com/en-ke/niv/schedule/61475787/appointment?applicants%5B%5D=72890185&applicants%5B%5D=72890374&confirmed_limit_message=1&commit=Continue',\n",
    "    headers = default_headers,\n",
    "    cookies = res.cookies,\n",
    "    allow_redirects=False)\n",
    "print(f'response code: {res.status_code}')\n",
    "if 'Reschedule' in str(res.content):\n",
    "  print('Successfully loaded the appointment page.')\n",
    "else:\n",
    "  print('Failed to load the appointment page')"
   ]
  },
  {
   "cell_type": "code",
   "execution_count": 10,
   "id": "4579203d",
   "metadata": {
    "colab": {
     "base_uri": "https://localhost:8080/"
    },
    "execution": {
     "iopub.execute_input": "2024-09-27T07:00:19.753766Z",
     "iopub.status.busy": "2024-09-27T07:00:19.753454Z",
     "iopub.status.idle": "2024-09-27T07:00:30.464495Z",
     "shell.execute_reply": "2024-09-27T07:00:30.463285Z"
    },
    "id": "pbTqPnoC3kgc",
    "outputId": "e73132be-631f-4d9d-d2ab-9545a8aceef7",
    "papermill": {
     "duration": 10.720273,
     "end_time": "2024-09-27T07:00:30.467190",
     "exception": false,
     "start_time": "2024-09-27T07:00:19.746917",
     "status": "completed"
    },
    "tags": []
   },
   "outputs": [
    {
     "data": {
      "text/plain": [
       "200"
      ]
     },
     "execution_count": 10,
     "metadata": {},
     "output_type": "execute_result"
    }
   ],
   "source": [
    "headers = copy.deepcopy(default_headers)\n",
    "headers['Accept'] = 'application/json, text/javascript, */*; q=0.01'\n",
    "res = requests.get(\n",
    "    'https://ais.usvisa-info.com/en-ke/niv/schedule/61475787/appointment/days/104.json?appointments[expedite]=false',\n",
    "    headers = default_headers,\n",
    "    cookies = res.cookies,\n",
    "    allow_redirects=False)\n",
    "res.status_code"
   ]
  },
  {
   "cell_type": "code",
   "execution_count": 11,
   "id": "19a91483",
   "metadata": {
    "colab": {
     "base_uri": "https://localhost:8080/"
    },
    "execution": {
     "iopub.execute_input": "2024-09-27T07:00:30.484007Z",
     "iopub.status.busy": "2024-09-27T07:00:30.483643Z",
     "iopub.status.idle": "2024-09-27T07:00:30.492702Z",
     "shell.execute_reply": "2024-09-27T07:00:30.492110Z"
    },
    "id": "GtZPx7Go4tZE",
    "outputId": "57cd24c5-2668-4cb4-c7ba-454c0a634fd3",
    "papermill": {
     "duration": 0.017378,
     "end_time": "2024-09-27T07:00:30.494178",
     "exception": false,
     "start_time": "2024-09-27T07:00:30.476800",
     "status": "completed"
    },
    "tags": []
   },
   "outputs": [
    {
     "name": "stdout",
     "output_type": "stream",
     "text": [
      "No early appointments available.\n"
     ]
    }
   ],
   "source": [
    "date_to_comapre = '2024-12-01'\n",
    "\n",
    "dates_df = pd.json_normalize(json.loads(res.content))\n",
    "first_avail_date = dates_df[dates_df['date'] < date_to_comapre]\n",
    "if first_avail_date.empty:\n",
    "  print('No early appointments available.')\n",
    "else:\n",
    "  first_avail_date = first_avail_date.sort_values(by='date', ascending=True).head(1).values[0][0]\n",
    "  print(f'First available appointment: {first_avail_date}')"
   ]
  },
  {
   "cell_type": "code",
   "execution_count": 12,
   "id": "e5aac584",
   "metadata": {
    "execution": {
     "iopub.execute_input": "2024-09-27T07:00:30.505598Z",
     "iopub.status.busy": "2024-09-27T07:00:30.505351Z",
     "iopub.status.idle": "2024-09-27T07:00:30.513174Z",
     "shell.execute_reply": "2024-09-27T07:00:30.512560Z"
    },
    "id": "_f4oQuXW8y9K",
    "papermill": {
     "duration": 0.014676,
     "end_time": "2024-09-27T07:00:30.514729",
     "exception": false,
     "start_time": "2024-09-27T07:00:30.500053",
     "status": "completed"
    },
    "tags": []
   },
   "outputs": [],
   "source": [
    "import pytz\n",
    "from datetime import timedelta, datetime\n",
    "\n",
    "\n",
    "def create_event(service):\n",
    "    # Create an event on the primary calendar\n",
    "    # Get the Hawaiian timezone\n",
    "    hawaiian_tz = pytz.timezone('Pacific/Honolulu')\n",
    "\n",
    "    # Get the current time in UTC\n",
    "    utc_now = datetime.now(pytz.utc)\n",
    "\n",
    "    # Convert the UTC time to Hawaiian time\n",
    "    start_time = utc_now.astimezone(hawaiian_tz) + timedelta(minutes=5)\n",
    "\n",
    "    event = {\n",
    "      'summary': 'US Visa Appointment',\n",
    "      'description': f'First available appointment: {first_avail_date}',\n",
    "      'start': {\n",
    "        'dateTime': start_time.isoformat(),\n",
    "        'timeZone': 'Pacific/Honolulu',\n",
    "      },\n",
    "      'end': {\n",
    "        'dateTime': (start_time + timedelta(hours=1)).isoformat(),\n",
    "        'timeZone': 'Pacific/Honolulu',\n",
    "      },\n",
    "      'creator': {\n",
    "         'email': 'alireza.ali@gmail.com',\n",
    "      },\n",
    "      # 'recurrence': [\n",
    "      #   'RRULE:FREQ=DAILY;COUNT=2'\n",
    "      # ],\n",
    "      'attendees': [\n",
    "        {'email': 'alireza.ali@gmail.com'},\n",
    "        # {'email': 'example2@gmail.com'},\n",
    "      ],\n",
    "      'reminders': {\n",
    "        'useDefault': False,\n",
    "        'overrides': [\n",
    "          {'method': 'email', 'minutes': 1},\n",
    "          {'method': 'popup', 'minutes': 1},\n",
    "        ],\n",
    "      },\n",
    "    }\n",
    "\n",
    "    event = service.events().insert(calendarId='primary', body=event).execute()\n",
    "    print(f'Event created: {event.get(\"htmlLink\")}')"
   ]
  },
  {
   "cell_type": "code",
   "execution_count": 13,
   "id": "609b6e6a",
   "metadata": {
    "execution": {
     "iopub.execute_input": "2024-09-27T07:00:30.526348Z",
     "iopub.status.busy": "2024-09-27T07:00:30.526053Z",
     "iopub.status.idle": "2024-09-27T07:00:30.667281Z",
     "shell.execute_reply": "2024-09-27T07:00:30.666534Z"
    },
    "id": "h7ExISsL93YZ",
    "papermill": {
     "duration": 0.149117,
     "end_time": "2024-09-27T07:00:30.669361",
     "exception": false,
     "start_time": "2024-09-27T07:00:30.520244",
     "status": "completed"
    },
    "tags": []
   },
   "outputs": [],
   "source": [
    "from google.oauth2.credentials import Credentials\n",
    "from google_auth_oauthlib.flow import InstalledAppFlow\n",
    "from google.auth.transport.requests import Request\n",
    "import os\n",
    "\n",
    "# /content/drive/MyDrive/Colab Notebooks/client_secret_1020799066832-37ba3r1pimcrf4cf8l0qub4ga13u2e1t.apps.googleusercontent.com.json\n",
    "\n",
    "SCOPES = ['https://www.googleapis.com/auth/calendar.events']\n",
    "\n",
    "def authenticate_google_calendar():\n",
    "    creds = None\n",
    "    redirect_uri = \"https://developers.google.com/oauthplayground\"  # Specify the redirect_uri\n",
    "\n",
    "    if os.path.exists('token.json'):\n",
    "        creds = Credentials.from_authorized_user_file('token.json', SCOPES)\n",
    "    if not creds or not creds.valid:\n",
    "        if creds and creds.expired and creds.refresh_token:\n",
    "            creds.refresh(Request())\n",
    "        else:\n",
    "            flow = InstalledAppFlow.from_client_secrets_file(\n",
    "                'client_secret_1020799066832-37ba3r1pimcrf4cf8l0qub4ga13u2e1t.apps.googleusercontent.com.json',\n",
    "                SCOPES)\n",
    "            flow.redirect_uri = redirect_uri\n",
    "            # Removed redirect_uri from this call as it's already specified above\n",
    "            auth_url, _ = flow.authorization_url(prompt='consent')\n",
    "\n",
    "            print(f'Please go to this URL and authorize the app: {auth_url}')\n",
    "            code = input('Enter the authorization code: ')\n",
    "            flow.fetch_token(code=code)\n",
    "\n",
    "            creds = flow.credentials\n",
    "\n",
    "        # Save the credentials for the next run\n",
    "        with open('token.json', 'w') as token:\n",
    "            token.write(creds.to_json())\n",
    "\n",
    "    return build('calendar', 'v3', credentials=creds)"
   ]
  },
  {
   "cell_type": "code",
   "execution_count": 14,
   "id": "324a409b",
   "metadata": {
    "execution": {
     "iopub.execute_input": "2024-09-27T07:00:30.682300Z",
     "iopub.status.busy": "2024-09-27T07:00:30.681913Z",
     "iopub.status.idle": "2024-09-27T07:00:30.764212Z",
     "shell.execute_reply": "2024-09-27T07:00:30.763391Z"
    },
    "id": "h7ExISsL93YZ",
    "papermill": {
     "duration": 0.090458,
     "end_time": "2024-09-27T07:00:30.766314",
     "exception": false,
     "start_time": "2024-09-27T07:00:30.675856",
     "status": "completed"
    },
    "tags": []
   },
   "outputs": [],
   "source": [
    "from google.oauth2.credentials import Credentials\n",
    "from google_auth_oauthlib.flow import InstalledAppFlow\n",
    "from google.auth.transport.requests import Request\n",
    "from googleapiclient.discovery import build\n",
    "\n",
    "import os\n",
    "import os.path\n",
    "\n",
    "# /content/drive/MyDrive/Colab Notebooks/client_secret_1020799066832-37ba3r1pimcrf4cf8l0qub4ga13u2e1t.apps.googleusercontent.com.json\n",
    "\n",
    "SCOPES = ['https://www.googleapis.com/auth/calendar.events']\n",
    "\n",
    "def authenticate_google_calendar():\n",
    "    creds = None\n",
    "    redirect_uri = \"https://developers.google.com/oauthplayground\"  # Specify the redirect_uri\n",
    "\n",
    "    if os.path.exists('token.json'):\n",
    "        creds = Credentials.from_authorized_user_file('token.json', SCOPES)\n",
    "    if not creds or not creds.valid:\n",
    "        if creds and creds.expired and creds.refresh_token:\n",
    "            creds.refresh(Request())\n",
    "        else:\n",
    "            flow = InstalledAppFlow.from_client_secrets_file(\n",
    "                'client_secret_1020799066832-37ba3r1pimcrf4cf8l0qub4ga13u2e1t.apps.googleusercontent.com.json',\n",
    "                SCOPES)\n",
    "            flow.redirect_uri = redirect_uri\n",
    "            # Removed redirect_uri from this call as it's already specified above\n",
    "            auth_url, _ = flow.authorization_url(prompt='consent')\n",
    "\n",
    "            print(f'Please go to this URL and authorize the app: {auth_url}')\n",
    "            code = input('Enter the authorization code: ')\n",
    "            flow.fetch_token(code=code)\n",
    "\n",
    "            creds = flow.credentials\n",
    "\n",
    "        # Save the credentials for the next run\n",
    "        with open('token.json', 'w') as token:\n",
    "            token.write(creds.to_json())\n",
    "\n",
    "    return build('calendar', 'v3', credentials=creds)"
   ]
  },
  {
   "cell_type": "code",
   "execution_count": 15,
   "id": "e0f3a212",
   "metadata": {
    "execution": {
     "iopub.execute_input": "2024-09-27T07:00:30.779353Z",
     "iopub.status.busy": "2024-09-27T07:00:30.778672Z",
     "iopub.status.idle": "2024-09-27T07:00:30.791396Z",
     "shell.execute_reply": "2024-09-27T07:00:30.790718Z"
    },
    "id": "h7ExISsL93YZ",
    "papermill": {
     "duration": 0.020613,
     "end_time": "2024-09-27T07:00:30.792985",
     "exception": false,
     "start_time": "2024-09-27T07:00:30.772372",
     "status": "completed"
    },
    "tags": []
   },
   "outputs": [],
   "source": [
    "from google.oauth2.credentials import Credentials\n",
    "from google_auth_oauthlib.flow import InstalledAppFlow\n",
    "from google.auth.transport.requests import Request\n",
    "import os\n",
    "\n",
    "# /content/drive/MyDrive/Colab Notebooks/client_secret_1020799066832-37ba3r1pimcrf4cf8l0qub4ga13u2e1t.apps.googleusercontent.com.json\n",
    "\n",
    "SCOPES = ['https://www.googleapis.com/auth/calendar.events']\n",
    "\n",
    "def authenticate_google_calendar():\n",
    "    creds = None\n",
    "    redirect_uri = \"https://developers.google.com/oauthplayground\"  # Specify the redirect_uri\n",
    "\n",
    "    if os.path.exists('token.json'):\n",
    "        creds = Credentials.from_authorized_user_file('token.json', SCOPES)\n",
    "    if not creds or not creds.valid:\n",
    "        if creds and creds.expired and creds.refresh_token:\n",
    "            creds.refresh(Request())\n",
    "        else:\n",
    "            flow = InstalledAppFlow.from_client_secrets_file(\n",
    "                'client_secret_1020799066832-37ba3r1pimcrf4cf8l0qub4ga13u2e1t.apps.googleusercontent.com.json',\n",
    "                SCOPES)\n",
    "            flow.redirect_uri = redirect_uri\n",
    "            # Removed redirect_uri from this call as it's already specified above\n",
    "            auth_url, _ = flow.authorization_url(prompt='consent')\n",
    "\n",
    "            print(f'Please go to this URL and authorize the app: {auth_url}')\n",
    "            code = input('Enter the authorization code: ')\n",
    "            flow.fetch_token(code=code)\n",
    "\n",
    "            creds = flow.credentials\n",
    "\n",
    "        # Save the credentials for the next run\n",
    "        with open('token.json', 'w') as token:\n",
    "            token.write(creds.to_json())\n",
    "\n",
    "    return build('calendar', 'v3', credentials=creds)"
   ]
  },
  {
   "cell_type": "code",
   "execution_count": 16,
   "id": "c2cc357f",
   "metadata": {
    "colab": {
     "base_uri": "https://localhost:8080/",
     "height": 380
    },
    "execution": {
     "iopub.execute_input": "2024-09-27T07:00:30.806073Z",
     "iopub.status.busy": "2024-09-27T07:00:30.805757Z",
     "iopub.status.idle": "2024-09-27T07:00:32.338210Z",
     "shell.execute_reply": "2024-09-27T07:00:32.337445Z"
    },
    "id": "AptmSjJq84NF",
    "outputId": "d094dfb5-9cf6-42b1-8803-dac0ef50f4b3",
    "papermill": {
     "duration": 1.540067,
     "end_time": "2024-09-27T07:00:32.340011",
     "exception": false,
     "start_time": "2024-09-27T07:00:30.799944",
     "status": "completed"
    },
    "tags": []
   },
   "outputs": [
    {
     "name": "stdout",
     "output_type": "stream",
     "text": [
      "2024-09-26T21:00:30.808212\n",
      "\n"
     ]
    },
    {
     "name": "stdout",
     "output_type": "stream",
     "text": [
      "No early appointments available.\n"
     ]
    },
    {
     "data": {
      "text/html": [
       "<div>\n",
       "<style scoped>\n",
       "    .dataframe tbody tr th:only-of-type {\n",
       "        vertical-align: middle;\n",
       "    }\n",
       "\n",
       "    .dataframe tbody tr th {\n",
       "        vertical-align: top;\n",
       "    }\n",
       "\n",
       "    .dataframe thead th {\n",
       "        text-align: right;\n",
       "    }\n",
       "</style>\n",
       "<table border=\"1\" class=\"dataframe\">\n",
       "  <thead>\n",
       "    <tr style=\"text-align: right;\">\n",
       "      <th></th>\n",
       "      <th>date</th>\n",
       "      <th>business_day</th>\n",
       "    </tr>\n",
       "  </thead>\n",
       "  <tbody>\n",
       "    <tr>\n",
       "      <th>0</th>\n",
       "      <td>2025-02-10</td>\n",
       "      <td>True</td>\n",
       "    </tr>\n",
       "    <tr>\n",
       "      <th>1</th>\n",
       "      <td>2025-02-11</td>\n",
       "      <td>True</td>\n",
       "    </tr>\n",
       "    <tr>\n",
       "      <th>2</th>\n",
       "      <td>2025-02-12</td>\n",
       "      <td>True</td>\n",
       "    </tr>\n",
       "    <tr>\n",
       "      <th>3</th>\n",
       "      <td>2025-02-18</td>\n",
       "      <td>True</td>\n",
       "    </tr>\n",
       "    <tr>\n",
       "      <th>4</th>\n",
       "      <td>2025-02-19</td>\n",
       "      <td>True</td>\n",
       "    </tr>\n",
       "    <tr>\n",
       "      <th>5</th>\n",
       "      <td>2025-02-20</td>\n",
       "      <td>True</td>\n",
       "    </tr>\n",
       "    <tr>\n",
       "      <th>6</th>\n",
       "      <td>2025-02-24</td>\n",
       "      <td>True</td>\n",
       "    </tr>\n",
       "    <tr>\n",
       "      <th>7</th>\n",
       "      <td>2025-02-25</td>\n",
       "      <td>True</td>\n",
       "    </tr>\n",
       "  </tbody>\n",
       "</table>\n",
       "</div>"
      ],
      "text/plain": [
       "         date  business_day\n",
       "0  2025-02-10          True\n",
       "1  2025-02-11          True\n",
       "2  2025-02-12          True\n",
       "3  2025-02-18          True\n",
       "4  2025-02-19          True\n",
       "5  2025-02-20          True\n",
       "6  2025-02-24          True\n",
       "7  2025-02-25          True"
      ]
     },
     "execution_count": 16,
     "metadata": {},
     "output_type": "execute_result"
    }
   ],
   "source": [
    "print(f'{datetime.now().isoformat()}\\n')\n",
    "service = authenticate_google_calendar()\n",
    "if not isinstance(first_avail_date,str):\n",
    "  print('No early appointments available.')\n",
    "else:\n",
    "  create_event(service)\n",
    "\n",
    "dates_df.to_csv('dates_df.csv', index=False)\n",
    "dates_df.head(10)"
   ]
  }
 ],
 "metadata": {
  "colab": {
   "provenance": []
  },
  "kernelspec": {
   "display_name": "Python 3 (ipykernel)",
   "language": "python",
   "name": "python3"
  },
  "language_info": {
   "codemirror_mode": {
    "name": "ipython",
    "version": 3
   },
   "file_extension": ".py",
   "mimetype": "text/x-python",
   "name": "python",
   "nbconvert_exporter": "python",
   "pygments_lexer": "ipython3",
   "version": "3.11.9"
  },
  "papermill": {
   "default_parameters": {},
   "duration": 30.625008,
   "end_time": "2024-09-27T07:00:32.979908",
   "environment_variables": {},
   "exception": null,
   "input_path": "/Users/alirezaali/workspace/random/us_embassy//US_Visa.ipynb",
   "output_path": "/Users/alirezaali/workspace/random/us_embassy//output.ipynb",
   "parameters": {},
   "start_time": "2024-09-27T07:00:02.354900",
   "version": "2.6.0"
  }
 },
 "nbformat": 4,
 "nbformat_minor": 5
}